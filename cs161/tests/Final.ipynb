{
 "cells": [
  {
   "cell_type": "markdown",
   "metadata": {},
   "source": [
    "# MergeSort \n",
    "\n",
    "``` python \n",
    "def MergeSort(A):\n",
    "    n = len(A)\n",
    "    if n <= 1:\n",
    "        return A\n",
    "    L = MERGESORT(A[0:n/2])\n",
    "    R = MERGESORT(A[n/2:n])\n",
    "    return MERGE(L, R)\n",
    "```\n",
    "\n",
    "# K-Select\n",
    "\n",
    "```python\n",
    "\n",
    "def KSelect(A):\n",
    "    p = getPivot(A)\n",
    "    L, pivot, R = Partition(A,p)\n",
    "    if len(L) == k - 1:\n",
    "        return pivot\n",
    "    else if len(L) > k -1:\n",
    "        return Select(L,k)\n",
    "    else if len(L) < k - 1:\n",
    "        return Select(R, k - len(L) - 1)\n",
    "    \n",
    "```\n",
    "\n",
    "# QuickSort\n",
    "\n",
    "```python\n",
    "\n",
    "def QuickSort(A):\n",
    "    if len(A) <= 1:\n",
    "        return A'\n",
    "    pivot = random(A)\n",
    "    L, pivot, R = partition(A, pivot)\n",
    "    A = L + [pivot] + R\n",
    "    QuickSort(L)\n",
    "    QuickSort(R)\n",
    "```"
   ]
  },
  {
   "cell_type": "markdown",
   "metadata": {},
   "source": [
    "# Master Theorem\n",
    "\n",
    "\n",
    "![master](../img/master-theorem.png)\n"
   ]
  },
  {
   "cell_type": "markdown",
   "metadata": {},
   "source": [
    "# Red Black Trees \n",
    "\n",
    "- Every node is colored red or black.\n",
    "- The root node is a black node.\n",
    "- NIL children count as black nodes.\n",
    "- Children of a red node are black nodes.\n",
    "- For all nodes x:\n",
    "     - all paths from x to NIL’s have the same\n",
    "number of black nodes on them"
   ]
  },
  {
   "cell_type": "markdown",
   "metadata": {},
   "source": [
    "# Universal Hash Family \n",
    "\n",
    "$$ \\forall u_i, u_j \\in U \\quad \\text{with} \\quad u_i \\neq u_j,$$ \n",
    "\n",
    "$$ P_{h \\in H} \\{h(u_i) = h(u_j) \\} \\leq 1/n$$"
   ]
  },
  {
   "cell_type": "markdown",
   "metadata": {},
   "source": [
    "# Parentheses Theorem \n",
    "\n"
   ]
  },
  {
   "cell_type": "markdown",
   "metadata": {},
   "source": [
    "# Bellman-Ford \n",
    "\n",
    "- Can handle negative edge weights \n",
    "- Allows for flexibility if the weights change\n",
    "\n",
    "``` python\n",
    "\n",
    "def Bellman-Ford(G, s):\n",
    "    d[v] = infinity\n",
    "    d[s] = 0\n",
    "    for i in range(n):\n",
    "        for u in V:\n",
    "            for v in u.neighbors:\n",
    "                d[v] = min(d[v], d[u]+ edgeWeight(u,v))\n",
    "\n",
    "```\n",
    "\n",
    "If d(n-1) != d(n)\n",
    "\n",
    "- Return NEGATIVE CYCLE "
   ]
  },
  {
   "cell_type": "markdown",
   "metadata": {},
   "source": [
    "# Prim's Algorithm\n",
    "\n",
    "- Initialize the minimum spanning tree with a vertex chosen at random.\n",
    "- Find all the edges that connect the tree to new vertices, find the minimum and add it to the tree\n",
    "- Keep repeating step 2 until we get a minimum spanning tree\n",
    "``` python\n",
    "def Prim():\n",
    "    T = []\n",
    "    U = [1]\n",
    "    \n",
    "    while T != U:\n",
    "        # find (u,v) such that u \\in U and v \\in T - U\n",
    "        u,v = min()\n",
    "        T.add(u,v)\n",
    "        U.add(v)\n",
    "    return T\n",
    "```"
   ]
  },
  {
   "cell_type": "markdown",
   "metadata": {},
   "source": [
    "# Kruskal's Algorithm \n",
    "\n",
    "- Sort all the edges from low weight to high\n",
    "- Take the edge with the lowest weight and add it to the spanning tree. If adding the edge created a cycle, then reject this edge\n",
    "- Keep adding edges until we reach all vertices\n",
    "\n",
    "\n",
    "``` python\n",
    "def Kruskal(V, E):\n",
    "    A = []\n",
    "    L = []\n",
    "    # increasing weight\n",
    "    sort(E)\n",
    "    for v in V:\n",
    "        L += [v]\n",
    "    for u,v in E:\n",
    "        if findSet(u) != findSet(v):\n",
    "            A += (u,v)\n",
    "```"
   ]
  },
  {
   "cell_type": "markdown",
   "metadata": {},
   "source": [
    "# Strongly Connected Components\n",
    "\n",
    "$O(n + m)$\n",
    "\n",
    "- Do DFS to create a DFS forest.\n",
    "    - Choose starting vertices in any order\n",
    "\n",
    "- Keep track of finishing times.\n",
    "     - Reverse all the edges in the graph\n",
    "\n",
    "- Do DFS again to create another DFS forest.\n",
    "\n",
    "    - This time, order the nodes in the reverse order of the finishing times that they had from the first DFS run.\n",
    "\n",
    "- The SCCs are the different trees in the second DFS forest"
   ]
  },
  {
   "cell_type": "markdown",
   "metadata": {},
   "source": [
    "# Floyd-Warshall Algorithm\n",
    "\n",
    "Find the shortest path between $u, v$ for all $u,v$ in $E$\n",
    "\n",
    "$O(n^3)$\n",
    "\n",
    "```python\n",
    "def Floyd-Warshall(V, E):\n",
    "    D[k][u,u] = 0 # for all u, k\n",
    "    D[k][u,v] = inf # for all u \\neq v, for all k\n",
    "    D[0][u,v] = weight(u, v) # for all (u,v) in E\n",
    "    \n",
    "    for k in range(1,n):\n",
    "        for u,v in V:\n",
    "            D[k][u,v] = min(D[k - 1][u,v], D[k-1][u,k] + D[k-1][k,v])\n",
    "    return D[n]\n",
    "```\n",
    "\n",
    "\n"
   ]
  },
  {
   "cell_type": "markdown",
   "metadata": {},
   "source": [
    "# LCS\n",
    "\n",
    "```python\n",
    "\n",
    "def LCS(X, Y):\n",
    "    C[i, 0] = C[0,j] = 0 # for all i in range(m), j in range(n)\n",
    "    for i in range(m) and j in range(n):\n",
    "        if X[i] = Y[j]:\n",
    "            C[i,j] = C[i - 1, j - 1] + 1\n",
    "        else:\n",
    "            C[i,j] = max(C[i, j -1], C[i -1,j])\n",
    "    return C[m, n]\n",
    "\n",
    "```\n",
    "\n",
    "\n"
   ]
  },
  {
   "cell_type": "markdown",
   "metadata": {},
   "source": [
    "# Dynamic Programming Proof"
   ]
  },
  {
   "cell_type": "markdown",
   "metadata": {},
   "source": [
    "# Greedy Algorithms Proof"
   ]
  },
  {
   "cell_type": "code",
   "execution_count": null,
   "metadata": {},
   "outputs": [],
   "source": []
  }
 ],
 "metadata": {
  "kernelspec": {
   "display_name": "Python [conda env:anaconda3]",
   "language": "python",
   "name": "conda-env-anaconda3-py"
  },
  "language_info": {
   "codemirror_mode": {
    "name": "ipython",
    "version": 3
   },
   "file_extension": ".py",
   "mimetype": "text/x-python",
   "name": "python",
   "nbconvert_exporter": "python",
   "pygments_lexer": "ipython3",
   "version": "3.6.6"
  }
 },
 "nbformat": 4,
 "nbformat_minor": 2
}
