{
 "cells": [
  {
   "cell_type": "markdown",
   "metadata": {},
   "source": [
    "# Cuts\n",
    "\n",
    "A cut is a partition of the vertices into two nonempty parts\n",
    "\n",
    "An edge crosses a cut when the vertex ends are in different partition groups\n",
    "\n",
    "**A minimum cut:** cut that has the fewest edges possible crossing it."
   ]
  },
  {
   "cell_type": "markdown",
   "metadata": {},
   "source": [
    "# Karger’s algorithm\n",
    "\n",
    "- Find's global minimum cuts in undirected graphs\n",
    "- Possibility that it is wrong\n",
    "- Monte Carlo Algorithm (possibility that is wrong, fast runtime)\n",
    "- Las Vegas Algorithm (always right, possibility of slow run time)\n",
    "\n",
    "Karger's Algorithm:\n",
    "\n",
    "- Pick a random edge\n",
    "- Contract it\n",
    "- Repeat until you only have two vertices left\n",
    "\n",
    "The minimum cut is given by the remaining super-nodes"
   ]
  },
  {
   "cell_type": "code",
   "execution_count": null,
   "metadata": {},
   "outputs": [],
   "source": []
  }
 ],
 "metadata": {
  "kernelspec": {
   "display_name": "Python [conda env:anaconda3]",
   "language": "python",
   "name": "conda-env-anaconda3-py"
  },
  "language_info": {
   "codemirror_mode": {
    "name": "ipython",
    "version": 3
   },
   "file_extension": ".py",
   "mimetype": "text/x-python",
   "name": "python",
   "nbconvert_exporter": "python",
   "pygments_lexer": "ipython3",
   "version": "3.6.6"
  }
 },
 "nbformat": 4,
 "nbformat_minor": 2
}
