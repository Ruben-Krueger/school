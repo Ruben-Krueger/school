{
 "cells": [
  {
   "cell_type": "markdown",
   "metadata": {},
   "source": [
    "# Unbounded Knapsack\n",
    "\n",
    "\n",
    " ```python\n",
    "\n",
    "def unboundedKnapsack(W, n, weights, values):\n",
    "    K[0] = 0\n",
    "    for x in range(1, W):\n",
    "        k[x] = 0\n",
    "        for i in range(n):\n",
    "            if W[i] <= x:\n",
    "                K[x] = max(K[x], K[x - W[i]] + value_i)\n",
    "        \n",
    "\n",
    "\n",
    "```"
   ]
  },
  {
   "cell_type": "code",
   "execution_count": null,
   "metadata": {},
   "outputs": [],
   "source": []
  }
 ],
 "metadata": {
  "kernelspec": {
   "display_name": "Python [conda env:anaconda3]",
   "language": "python",
   "name": "conda-env-anaconda3-py"
  },
  "language_info": {
   "codemirror_mode": {
    "name": "ipython",
    "version": 3
   },
   "file_extension": ".py",
   "mimetype": "text/x-python",
   "name": "python",
   "nbconvert_exporter": "python",
   "pygments_lexer": "ipython3",
   "version": "3.6.6"
  }
 },
 "nbformat": 4,
 "nbformat_minor": 2
}
