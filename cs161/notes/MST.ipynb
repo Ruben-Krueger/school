{
 "cells": [
  {
   "cell_type": "markdown",
   "metadata": {},
   "source": [
    "# Prim's Algorithm\n",
    "\n",
    "- Initialize the minimum spanning tree with a vertex chosen at random.\n",
    "- Find all the edges that connect the tree to new vertices, find the minimum and add it to the tree\n",
    "- Keep repeating step 2 until we get a minimum spanning tree\n",
    "``` python\n",
    "def Prim():\n",
    "    T = []\n",
    "    U = [1]\n",
    "    \n",
    "    while T != U:\n",
    "        # find (u,v) such that u \\in U and v \\in T - U\n",
    "        u,v = min()\n",
    "        T.add(u,v)\n",
    "        U.add(v)\n",
    "    return T\n",
    "```"
   ]
  },
  {
   "cell_type": "markdown",
   "metadata": {},
   "source": [
    "# Kruskal's Algorithm \n",
    "\n",
    "- Sort all the edges from low weight to high\n",
    "- Take the edge with the lowest weight and add it to the spanning tree. If adding the edge created a cycle, then reject this edge\n",
    "- Keep adding edges until we reach all vertices\n",
    "\n",
    "KRUSKAL(G):\n",
    "A = ∅\n",
    "For each vertex v ∈ G.V:\n",
    "    MAKE-SET(v)\n",
    "For each edge (u, v) ∈ G.E ordered by increasing order by weight(u, v):\n",
    "    if FIND-SET(u) ≠ FIND-SET(v):       \n",
    "    A = A ∪ {(u, v)}\n",
    "    UNION(u, v)\n",
    "return A"
   ]
  },
  {
   "cell_type": "code",
   "execution_count": null,
   "metadata": {},
   "outputs": [],
   "source": []
  }
 ],
 "metadata": {
  "kernelspec": {
   "display_name": "Python [conda env:anaconda3]",
   "language": "python",
   "name": "conda-env-anaconda3-py"
  },
  "language_info": {
   "codemirror_mode": {
    "name": "ipython",
    "version": 3
   },
   "file_extension": ".py",
   "mimetype": "text/x-python",
   "name": "python",
   "nbconvert_exporter": "python",
   "pygments_lexer": "ipython3",
   "version": "3.6.6"
  }
 },
 "nbformat": 4,
 "nbformat_minor": 2
}
